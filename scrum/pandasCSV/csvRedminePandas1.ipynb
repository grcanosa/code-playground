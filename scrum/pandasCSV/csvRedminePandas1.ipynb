{
 "cells": [
  {
   "cell_type": "markdown",
   "metadata": {
    "slideshow": {
     "slide_type": "slide"
    }
   },
   "source": [
    "# Reporte Sprints\n",
    "\n"
   ]
  },
  {
   "cell_type": "code",
   "execution_count": null,
   "metadata": {},
   "outputs": [],
   "source": [
    "from IPython.display import HTML\n",
    "from IPython.display import display        \n",
    "\n",
    "HTML('''<script>\n",
    "code_show=true; \n",
    "function code_toggle() {\n",
    " if (code_show){\n",
    " $('div.input').hide();\n",
    " } else {\n",
    " $('div.input').show();\n",
    " }\n",
    " code_show = !code_show\n",
    "} \n",
    "$( document ).ready(code_toggle);\n",
    "</script>\n",
    "<form action=\"javascript:code_toggle()\"><input type=\"submit\" value=\"Click aquí para ver el código\"></form>''')\n",
    "\n",
    "\n"
   ]
  },
  {
   "cell_type": "code",
   "execution_count": null,
   "metadata": {
    "slideshow": {
     "slide_type": "subslide"
    }
   },
   "outputs": [],
   "source": [
    "## CONFIGURACION\n",
    "SPRINT_ACTUAL = \"export9.csv\"  \n",
    "SPRINT_ANTERIOR = \"export8.csv\"  \n",
    "#DATE_START = \"20170515\"  \n",
    "#DATE_END = \"20170526\"  \n",
    "#DATES_HOLIDAYS = []  \n",
    "print(\"CONFIGURACIÓN\")\n",
    "print(\"SPRINT ACTUAL: \"+SPRINT_ACTUAL)\n",
    "print(\"SPRINT ANTERIOR: \"+SPRINT_ANTERIOR)\n"
   ]
  },
  {
   "cell_type": "code",
   "execution_count": null,
   "metadata": {
    "slideshow": {
     "slide_type": "subslide"
    }
   },
   "outputs": [],
   "source": [
    "## IMPORT AND LOADING\n",
    "\n",
    "import pandas as pd\n",
    "import math\n",
    "\n",
    "col_names = [\"#\",\"Estado\",\"Proyecto\",\"Tipo\",\"% Realizado\",\"Tiempo estimado\",\"Tarjeta\",\"Versión prevista\"]\n",
    "new_col_names = [\"Issue\",\"Estado\",\"Proyecto\",\"Tipo\",\"Porcentaje\",\"Tiempo\",\"Tarjeta\",\"Version\"]\n",
    "col_names2 = [\"#\",\"Estado\",\"Proyecto\",\"Tipo\",\"% Realizado\",\"Tiempo estimado\",\"Versión prevista\"]\n",
    "new_col_names2 = [\"Issue\",\"Estado\",\"Proyecto\",\"Tipo\",\"Porcentaje\",\"Tiempo\",\"Version\"]\n",
    "\n",
    "grupos_tarjetas = {\"SVV\":\"SVV\",\n",
    "                   \"TC\":\"TC\",\n",
    "                   \"MON\":\"SVE\",\n",
    "                   \"SVD\":\"SVE\",\n",
    "                   \"PC\":\"PC\"}\n",
    "\n",
    "\n",
    "finished_states = [\"Pte Validacion\",\"Corregida\",\"Resuelta\"]\n",
    "blocked_states = [\"Bloqueada\"]\n",
    "special_types = [\"Soporte\",\"Unexpected\"]\n",
    "\n",
    "\n",
    "dat = pd.read_csv(SPRINT_ACTUAL,sep=\";\",header=0,usecols=col_names,encoding=\"iso-8859-15\",decimal=\",\")\n",
    "dat = dat.rename(columns=dict(zip(col_names,new_col_names)))\n",
    "datPrev = pd.read_csv(SPRINT_ANTERIOR,sep=\";\",header=0,usecols=col_names2,encoding=\"iso-8859-15\",decimal=\",\")\n",
    "datPrev = datPrev.rename(columns=dict(zip(col_names2,new_col_names2)))\n",
    "\n",
    "dat.loc[dat[\"Issue\"] == 14169]\n"
   ]
  },
  {
   "cell_type": "markdown",
   "metadata": {},
   "source": [
    "## Peticiones con errores "
   ]
  },
  {
   "cell_type": "markdown",
   "metadata": {},
   "source": [
    "#### Tiempo de la tarea"
   ]
  },
  {
   "cell_type": "code",
   "execution_count": null,
   "metadata": {},
   "outputs": [],
   "source": [
    "def check_bad_time(DF):\n",
    "    if pd.isnull(DF[\"Tiempo\"]).any() | (DF[\"Tiempo\"] == 0).any():\n",
    "        display(\"Lista de peticiones con tiempo inválido o 0 (eliminadas de la lista a partir de ahora)\")\n",
    "        index = DF.loc[(pd.isnull(dat[\"Tiempo\"])) | (DF[\"Tiempo\"] == 0),:].index\n",
    "        display(DF.loc[index,:])\n",
    "        DF.drop(index,inplace=True)\n",
    "    else:\n",
    "        display(\"Todas las peticiones tienen tiempos correctos\")\n",
    "\n",
    "print(\"Sprint Actual: \"+SPRINT_ACTUAL)\n",
    "check_bad_time(dat)\n",
    "print(\"Sprint Anterior: \"+SPRINT_ANTERIOR)\n",
    "check_bad_time(datPrev)\n"
   ]
  },
  {
   "cell_type": "markdown",
   "metadata": {},
   "source": [
    "#### Inconsistencias Estado/Porcentaje"
   ]
  },
  {
   "cell_type": "code",
   "execution_count": null,
   "metadata": {},
   "outputs": [],
   "source": [
    "def check_inconsistent_state(DF):\n",
    "    inconsistent = DF[(DF[\"Estado\"].isin(finished_states)) & (DF[\"Porcentaje\"] < 100)]\n",
    "    if inconsistent.empty:\n",
    "        print(\"Todas las peticiones tienen estado/porcentaje consistente\")\n",
    "    else:\n",
    "        print(\"Lista de peticiones con inconsistencias en Estado/Porcentaje (se eliminan)\")\n",
    "        display(inconsistent)\n",
    "        DF.drop(inconsistent.index,inplace=True)\n",
    "\n",
    "print(\"Sprint Actual: \"+SPRINT_ACTUAL)\n",
    "check_inconsistent_state(dat)\n",
    "print(\"Sprint Anterior: \"+SPRINT_ANTERIOR)\n",
    "check_inconsistent_state(datPrev)"
   ]
  },
  {
   "cell_type": "markdown",
   "metadata": {},
   "source": [
    "#### Inconsistencias Tipo Soporte / Sprint Soporte"
   ]
  },
  {
   "cell_type": "code",
   "execution_count": null,
   "metadata": {},
   "outputs": [],
   "source": [
    "def check_soporte(DF):\n",
    "    soporte = DF[(DF[\"Tipo\"] == \"Soporte\") & (~DF[\"Version\"].str.contains(\"Soporte\"))]\n",
    "    if soporte.empty:\n",
    "        print(\"Todas las tareas de soporte están en la sprint correcta\")\n",
    "    else:\n",
    "        print(\"Lista de tareas de tipo soporte en sprint incorrecta (se mantienen)\")\n",
    "        display(soporte)\n",
    "\n",
    "print(\"Sprint Actual: \"+SPRINT_ACTUAL)\n",
    "check_soporte(dat)\n",
    "print(\"Sprint Anterior: \"+SPRINT_ANTERIOR)\n",
    "check_soporte(datPrev)"
   ]
  },
  {
   "cell_type": "markdown",
   "metadata": {},
   "source": [
    "#### Inconsistencias en Tarjeta"
   ]
  },
  {
   "cell_type": "code",
   "execution_count": null,
   "metadata": {},
   "outputs": [],
   "source": [
    "def check_tarjeta(DF):\n",
    "    tarjetaNaN = DF.loc[pd.isnull(DF[\"Tarjeta\"])]\n",
    "    if tarjetaNaN.empty:\n",
    "        print(\"Todas las peticiones tienen la tarjeta asignada\")\n",
    "    else:\n",
    "        print(\"Lista de peticiones con la tarjeta no asignada (se mantienen)\")\n",
    "        display(tarjetaNaN)\n",
    "        \n",
    "print(\"Sprint Actual: \"+SPRINT_ACTUAL)\n",
    "check_tarjeta(dat)"
   ]
  },
  {
   "cell_type": "markdown",
   "metadata": {},
   "source": [
    "## Estadísticas por proyecto\n",
    "\n",
    "Se calculan las horas totales del proyecto, eliminando las tareas de tipo Soporte o Unexpected.\n",
    "\n",
    "TiempoFinalizado es el tiempo calculado a partir del porcentaje.  \n",
    "TiempoPendiente es la diferencia entre el tiempo real y el finalizado."
   ]
  },
  {
   "cell_type": "code",
   "execution_count": null,
   "metadata": {},
   "outputs": [],
   "source": [
    "#dat.groupby(\"Proyecto\").loc[\"Tiempo\",\"TiempoReal\"].sum().reset_index()\n",
    "# for proy in dat.Proyecto.unique():\n",
    "#     print(\"Proyecto {:>20s} ==> {:>6.1f} horas\".format(proy,dat.loc[dat[\"Proyecto\"] == proy,\"Tiempo\"].sum()))\n",
    "\n",
    "dat[\"TiempoFinalizado\"] = dat[\"Tiempo\"]*dat[\"Porcentaje\"]/100;\n",
    "dat[\"TiempoPendiente\"] =dat[\"Tiempo\"]*(100-dat[\"Porcentaje\"])/100\n",
    "datPrev[\"TiempoFinalizado\"] = datPrev[\"Tiempo\"]*datPrev[\"Porcentaje\"]/100;\n",
    "datPrev[\"TiempoPendiente\"] = datPrev[\"Tiempo\"]*(100-datPrev[\"Porcentaje\"])/100\n",
    "\n",
    "# Se asigna la tarjeta correcta\n",
    "dat[\"Tarjeta\"] = dat[\"Tarjeta\"].map(grupos_tarjetas).fillna(\"UNK\").astype(str)\n",
    "#display(dat)\n",
    "\n",
    "display(dat.groupby([\"Proyecto\",\"Version\",\"Tarjeta\"])[\"Tiempo\",\"TiempoFinalizado\",\"TiempoPendiente\"].sum())\n",
    "        "
   ]
  },
  {
   "cell_type": "markdown",
   "metadata": {},
   "source": [
    "### Suma de horas pendientes por Proyecto\n",
    "\n",
    "Se suman todos los tiempos pendientes de las distintas versiones (Backlog y Sprint). No se han quitado las tareas de soporte, pero estas deberían tener como TiempoPendiente 0 por lo que no afectarían al resultado."
   ]
  },
  {
   "cell_type": "code",
   "execution_count": null,
   "metadata": {},
   "outputs": [],
   "source": [
    "display(dat.groupby([\"Proyecto\"])[\"Tiempo\",\"TiempoPendiente\"].sum())"
   ]
  },
  {
   "cell_type": "markdown",
   "metadata": {},
   "source": [
    "### Suma de horas de Soporte"
   ]
  },
  {
   "cell_type": "code",
   "execution_count": null,
   "metadata": {},
   "outputs": [],
   "source": [
    "dat.loc[dat[\"Tipo\"] == \"Soporte\",[\"Tiempo\",\"TiempoFinalizado\"]].sum()"
   ]
  },
  {
   "cell_type": "markdown",
   "metadata": {
    "collapsed": true
   },
   "source": [
    "## Sprint Actual \n",
    "\n",
    "Los datos siguientes se refieren al sprint actual. Horas realizadas, teniendo en cuenta las horas realizadas hasta el sprint anterior. "
   ]
  },
  {
   "cell_type": "code",
   "execution_count": null,
   "metadata": {},
   "outputs": [],
   "source": [
    "#Extraemos solo el proyecto y los tiempos de las tareas que no están en Backlog ni Soporte\n",
    "dat[\"TiempoSprintAnterior\"] = dat[\"Issue\"].map(datPrev.set_index(\"Issue\")[\"TiempoFinalizado\"]).fillna(0).astype(int)\n",
    "sprint=dat[~dat[\"Version\"].str.contains('BackLog|Soporte|Backlog')]\n",
    "sprintT=sprint.groupby(\"Proyecto\")[\"Tiempo\",\"TiempoFinalizado\",\"TiempoSprintAnterior\"].sum()\n",
    "sprintT[\"TiempoFinalizadoReal\"] = sprintT[\"TiempoFinalizado\"]-sprintT[\"TiempoSprintAnterior\"]\n",
    "display(sprintT)\n",
    "display(\"Tiempos Totales:\")\n",
    "display(sprintT.sum(numeric_only=True))\n",
    "\n"
   ]
  },
  {
   "cell_type": "markdown",
   "metadata": {},
   "source": [
    "### Resumen Sprint"
   ]
  },
  {
   "cell_type": "code",
   "execution_count": null,
   "metadata": {},
   "outputs": [],
   "source": [
    "print(\"Tiempo total realizado en este sprint:\")\n",
    "print(\"Tiempo tareas del Sprint: \")\n",
    "tSprint = sprintT.sum(numeric_only=True)[\"TiempoFinalizadoReal\"]\n",
    "display(tSprint)\n",
    "print(\"Tiempo tareas Soporte: \")\n",
    "tSoporte = dat.loc[dat[\"Tipo\"] == \"Soporte\",[\"Tiempo\",\"TiempoFinalizado\"]].sum()[\"TiempoFinalizado\"]\n",
    "display(tSoporte)\n",
    "print(\"Tiempo Total: \")\n",
    "display(tSprint+tSoporte)\n",
    "\n"
   ]
  }
 ],
 "metadata": {
  "kernelspec": {
   "display_name": "Python 3",
   "language": "python",
   "name": "python3"
  },
  "language_info": {
   "codemirror_mode": {
    "name": "ipython",
    "version": 3
   },
   "file_extension": ".py",
   "mimetype": "text/x-python",
   "name": "python",
   "nbconvert_exporter": "python",
   "pygments_lexer": "ipython3",
   "version": "3.4.3"
  }
 },
 "nbformat": 4,
 "nbformat_minor": 2
}
